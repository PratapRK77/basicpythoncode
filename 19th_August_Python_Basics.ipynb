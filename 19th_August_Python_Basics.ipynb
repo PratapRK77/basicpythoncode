{
  "nbformat": 4,
  "nbformat_minor": 0,
  "metadata": {
    "colab": {
      "provenance": [],
      "authorship_tag": "ABX9TyMjt72VzRd0RfhrcEREt9Iu",
      "include_colab_link": true
    },
    "kernelspec": {
      "name": "python3",
      "display_name": "Python 3"
    },
    "language_info": {
      "name": "python"
    }
  },
  "cells": [
    {
      "cell_type": "markdown",
      "metadata": {
        "id": "view-in-github",
        "colab_type": "text"
      },
      "source": [
        "<a href=\"https://colab.research.google.com/github/PratapRK77/basicpythoncode/blob/main/19th_August_Python_Basics.ipynb\" target=\"_parent\"><img src=\"https://colab.research.google.com/assets/colab-badge.svg\" alt=\"Open In Colab\"/></a>"
      ]
    },
    {
      "cell_type": "markdown",
      "source": [
        "Declare two variables, `x` and `y`, and assign them integer values. Swap the\n",
        "values of these variables without using any temporary variable."
      ],
      "metadata": {
        "id": "Gy8L5kFFn3W_"
      }
    },
    {
      "cell_type": "code",
      "execution_count": null,
      "metadata": {
        "colab": {
          "base_uri": "https://localhost:8080/"
        },
        "id": "BXWXBx-SKXCW",
        "outputId": "8bfc0e87-1e71-40a8-ee62-9c5661d59b58"
      },
      "outputs": [
        {
          "output_type": "stream",
          "name": "stdout",
          "text": [
            "value of x :  20\n",
            "Value of y :  10\n"
          ]
        }
      ],
      "source": [
        "x=10\n",
        "y=20\n",
        "\n",
        "x,y=y,x #swaping the vlue of x and y\n",
        "\n",
        "print(\"value of x : \",x)\n",
        "print(\"Value of y : \",y)"
      ]
    },
    {
      "cell_type": "markdown",
      "source": [
        "Create a program that calculates the area of a rectangle. Take the length and\n",
        "width as inputs from the user and store them in variables. Calculate and\n",
        "display the area."
      ],
      "metadata": {
        "id": "TTe3q2yFmK2b"
      }
    },
    {
      "cell_type": "code",
      "source": [
        "l=float(input(\"Enter the lenth:\")) # Take input from the user\n",
        "w=float(input(\"Enter tthe width:\"))\n",
        "\n",
        "area=l*w #formula of rectangle is length*Width\n",
        "\n",
        "print(\"Area of rectangle is :\",area)"
      ],
      "metadata": {
        "colab": {
          "base_uri": "https://localhost:8080/"
        },
        "id": "gItRqShZL9GM",
        "outputId": "9d583d7a-3839-4371-fca2-01a6ff715195"
      },
      "execution_count": null,
      "outputs": [
        {
          "output_type": "stream",
          "name": "stdout",
          "text": [
            "Enter the lenth:45\n",
            "Enter tthe width:25\n",
            "Area of rectangle is : 1125.0\n"
          ]
        }
      ]
    },
    {
      "cell_type": "markdown",
      "source": [
        "Write a Python program that converts temperatures from Celsius to\n",
        "Fahrenheit. Take the temperature in Celsius as input, store it in a variable,\n",
        "convert it to Fahrenheit, and display the result."
      ],
      "metadata": {
        "id": "HJvCoPHimUxV"
      }
    },
    {
      "cell_type": "code",
      "source": [
        "celsius=float(input(\"Enter temprature in celsius \")) # Take input from the user\n",
        "\n",
        "fahrenheit = (celsius * 1.8) + 32 # Formula of fahrenheit\n",
        "print(\"convert temprature celsius into faherenheit\",fahrenheit)"
      ],
      "metadata": {
        "colab": {
          "base_uri": "https://localhost:8080/"
        },
        "id": "KU7W_0evO-gs",
        "outputId": "5b08545d-ccac-4750-8779-3fd43834883d"
      },
      "execution_count": null,
      "outputs": [
        {
          "output_type": "stream",
          "name": "stdout",
          "text": [
            "Enter temprature in celsius45\n",
            "convert temprature celsius into faherenheit 113.0\n"
          ]
        }
      ]
    },
    {
      "cell_type": "markdown",
      "source": [
        "Write a Python program that takes a string as input and prints the length of\n",
        "the string."
      ],
      "metadata": {
        "id": "5bOcuM3Qmo0u"
      }
    },
    {
      "cell_type": "code",
      "source": [
        "str=input(\"Enter string :\") # Take input string from the user\n",
        "\n",
        "print(\"Length of string is : \" len(str)) #find the lenth of string using \"len\" function"
      ],
      "metadata": {
        "id": "lim3bX4qm8i2"
      },
      "execution_count": null,
      "outputs": []
    },
    {
      "cell_type": "markdown",
      "source": [
        "Create a program that takes a sentence from the user and counts the number\n",
        "of vowels (a, e, i, o, u) in the string."
      ],
      "metadata": {
        "id": "m_BG3HoQnhzY"
      }
    },
    {
      "cell_type": "code",
      "source": [
        "str=input(\"Enter string : \")\n",
        "count=0\n",
        "vowels=[\"a\",\"e\",\"i\",\"o\",\"u\"]\n",
        "\n",
        "for i in str:\n",
        "  if i in vowels:\n",
        "    count +=1\n",
        "\n",
        "    print(\"vowels in the string is : \",  count)\n"
      ],
      "metadata": {
        "colab": {
          "base_uri": "https://localhost:8080/"
        },
        "id": "EYfaAe-ZToUu",
        "outputId": "e58256f7-4a0b-4026-8826-53ad8f75cf22"
      },
      "execution_count": null,
      "outputs": [
        {
          "output_type": "stream",
          "name": "stdout",
          "text": [
            "Enter string : ygugugug\n",
            "vowels in the string is :  1\n",
            "vowels in the string is :  2\n",
            "vowels in the string is :  3\n"
          ]
        }
      ]
    },
    {
      "cell_type": "markdown",
      "source": [
        "Given a string, reverse the order of characters using string slicing and print\n",
        "the reversed string."
      ],
      "metadata": {
        "id": "Zg685t74nktW"
      }
    },
    {
      "cell_type": "code",
      "source": [
        "str=\"chhatrpati shivaji maharaj\"\n",
        "\n",
        "str[::-1] #reverse the zstring using indexing\n",
        "\n"
      ],
      "metadata": {
        "colab": {
          "base_uri": "https://localhost:8080/",
          "height": 36
        },
        "id": "VNjx52GWer2x",
        "outputId": "2608f1cc-0df2-4a08-b42f-075b7dbac49b"
      },
      "execution_count": null,
      "outputs": [
        {
          "output_type": "execute_result",
          "data": {
            "text/plain": [
              "'jaraham ijavihs itaprtahhc'"
            ],
            "application/vnd.google.colaboratory.intrinsic+json": {
              "type": "string"
            }
          },
          "metadata": {},
          "execution_count": 25
        }
      ]
    },
    {
      "cell_type": "markdown",
      "source": [
        "Write a program that takes a string as input and checks if it is a palindrome\n",
        "(reads the same forwards and backwards)."
      ],
      "metadata": {
        "id": "uHEqLvZWnn9z"
      }
    },
    {
      "cell_type": "code",
      "source": [
        "str=input(\"Enter string :\") # Take input string from user\n",
        "\n",
        "rev=str[::-1] # reverse the string using indexing\n",
        "\n",
        "if(str==rev): # compare the string after reversing\n",
        "  print(\"String is palindrome\")\n",
        "else:\n",
        "  print(\" String is not polindrome\")\n",
        "\n"
      ],
      "metadata": {
        "colab": {
          "base_uri": "https://localhost:8080/"
        },
        "id": "iW5F5_SHhl3C",
        "outputId": "dbd5e9a7-a44e-45a7-ff53-5f42f192e09d"
      },
      "execution_count": null,
      "outputs": [
        {
          "output_type": "stream",
          "name": "stdout",
          "text": [
            "Enter string :pratik\n",
            " String is not polindrome\n"
          ]
        }
      ]
    },
    {
      "cell_type": "markdown",
      "source": [
        "Create a program that takes a string as input and removes all the spaces from\n",
        "it. Print the modified string without spaces."
      ],
      "metadata": {
        "id": "qII8af4kntsM"
      }
    },
    {
      "cell_type": "markdown",
      "source": [],
      "metadata": {
        "id": "UClGzKcjntp-"
      }
    },
    {
      "cell_type": "code",
      "source": [
        "str=input(\"Enter string : \") # take input srting from the user\n",
        "\n",
        "sws=str.replace(\" \",\"\") # remove space using replace function\n",
        "print(\"string without space : \",sws)"
      ],
      "metadata": {
        "colab": {
          "base_uri": "https://localhost:8080/"
        },
        "id": "VKHzvGKwjLWx",
        "outputId": "9b43e353-a9bf-4172-d936-68a78b6ed21e"
      },
      "execution_count": null,
      "outputs": [
        {
          "output_type": "stream",
          "name": "stdout",
          "text": [
            "Enter string : p r a t a p P a t i l \n",
            "string without space :  pratapPatil\n"
          ]
        }
      ]
    }
  ]
}